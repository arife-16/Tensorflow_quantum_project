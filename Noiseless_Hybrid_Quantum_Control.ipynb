{
  "nbformat": 4,
  "nbformat_minor": 0,
  "metadata": {
    "colab": {
      "provenance": []
    },
    "kernelspec": {
      "name": "python3",
      "display_name": "Python 3"
    },
    "language_info": {
      "name": "python"
    }
  },
  "cells": [
    {
      "cell_type": "markdown",
      "source": [
        "\"\"\"\n",
        "Baseline Phase: Noiseless Hybrid Quantum Control\n",
        "\n",
        "Objective: Train a classical neural network (Controller) to output parameters\n",
        "           for a quantum circuit (Controlled PQC) to steer a single qubit to\n",
        "           target states (|0⟩ or |1⟩), compensating for a fixed, unknown\n",
        "           (to the NN) miscalibration, in a noiseless simulation environment.\n",
        "\"\"\""
      ],
      "metadata": {
        "id": "BppjFun4Vk7F"
      }
    },
    {
      "cell_type": "code",
      "source": [
        "!pip install tensorflow==2.15.0"
      ],
      "metadata": {
        "id": "VgcYK5_rXHxb"
      },
      "execution_count": null,
      "outputs": []
    },
    {
      "cell_type": "code",
      "source": [
        "!pip install tensorflow-quantum==0.7.3"
      ],
      "metadata": {
        "id": "jzQOhjzlXOTs"
      },
      "execution_count": null,
      "outputs": []
    },
    {
      "cell_type": "code",
      "source": [
        "# Update package resources to account for version changes.\n",
        "import importlib, pkg_resources\n",
        "\n",
        "importlib.reload(pkg_resources)"
      ],
      "metadata": {
        "id": "I1WDfrGTXPlr",
        "colab": {
          "base_uri": "https://localhost:8080/"
        },
        "outputId": "f90fbcb2-a896-45f1-a8cb-d94d12562b42"
      },
      "execution_count": null,
      "outputs": [
        {
          "output_type": "stream",
          "name": "stderr",
          "text": [
            "<ipython-input-3-ab1b6a95bcd9>:2: DeprecationWarning: pkg_resources is deprecated as an API. See https://setuptools.pypa.io/en/latest/pkg_resources.html\n",
            "  import importlib, pkg_resources\n"
          ]
        },
        {
          "output_type": "execute_result",
          "data": {
            "text/plain": [
              "<module 'pkg_resources' from '/usr/local/lib/python3.11/dist-packages/pkg_resources/__init__.py'>"
            ]
          },
          "metadata": {},
          "execution_count": 3
        }
      ]
    },
    {
      "cell_type": "code",
      "execution_count": null,
      "metadata": {
        "id": "nK5zY0WyVi2Y"
      },
      "outputs": [],
      "source": [
        "import tensorflow as tf\n",
        "import tensorflow_quantum as tfq\n",
        "import cirq\n",
        "import sympy\n",
        "import numpy as np\n",
        "import matplotlib.pyplot as plt"
      ]
    },
    {
      "cell_type": "code",
      "source": [
        "print(\"TensorFlow version:\", tf.__version__)\n",
        "print(\"TensorFlow Quantum version:\", tfq.__version__)\n",
        "print(\"Cirq version:\", cirq.__version__)"
      ],
      "metadata": {
        "colab": {
          "base_uri": "https://localhost:8080/"
        },
        "id": "qwbBsCCKVyWI",
        "outputId": "db59ccc2-0ff5-43da-d153-1f42bb3a8e26"
      },
      "execution_count": null,
      "outputs": [
        {
          "output_type": "stream",
          "name": "stdout",
          "text": [
            "TensorFlow version: 2.15.0\n",
            "TensorFlow Quantum version: 0.7.2\n",
            "Cirq version: 1.3.0\n"
          ]
        }
      ]
    },
    {
      "cell_type": "code",
      "source": [
        "# --- Qubit Definition ---\n",
        "# We'll use a single qubit for this control task.\n",
        "qubit = cirq.GridQubit(0, 0)\n",
        "print(f\"Qubit defined: {qubit}\")"
      ],
      "metadata": {
        "colab": {
          "base_uri": "https://localhost:8080/"
        },
        "id": "ZrE14Wa3VzOS",
        "outputId": "66e7efda-b1bf-4146-efb2-c7e0ca57d141"
      },
      "execution_count": null,
      "outputs": [
        {
          "output_type": "stream",
          "name": "stdout",
          "text": [
            "Qubit defined: q(0, 0)\n"
          ]
        }
      ]
    },
    {
      "cell_type": "code",
      "source": [
        "# --- Miscalibration Circuit (Systematic Error) ---\n",
        "# This represents a fixed, unknown error that happens *before* our control.\n",
        "# We generate random angles ONCE and keep them fixed throughout the experiment.\n",
        "# Small angles simulate a slight miscalibration.\n",
        "miscalibration_angles = np.random.uniform(0, 0.4, 3) # Small fixed errors\n",
        "miscalibration_circuit = cirq.Circuit(\n",
        "    cirq.rx(miscalibration_angles[0])(qubit),\n",
        "    cirq.ry(miscalibration_angles[1])(qubit),\n",
        "    cirq.rz(miscalibration_angles[2])(qubit)\n",
        ")\n",
        "print(\"\\nFixed Miscalibration Circuit (Systematic Error):\")\n",
        "print(miscalibration_circuit)"
      ],
      "metadata": {
        "colab": {
          "base_uri": "https://localhost:8080/"
        },
        "id": "XsRu5Fc8V2Fs",
        "outputId": "c04505cb-8ca4-4c3a-e1c7-54e0035668c6"
      },
      "execution_count": null,
      "outputs": [
        {
          "output_type": "stream",
          "name": "stdout",
          "text": [
            "\n",
            "Fixed Miscalibration Circuit (Systematic Error):\n",
            "(0, 0): ───Rx(0.01π)───Ry(0.042π)───Rz(0.023π)───\n"
          ]
        }
      ]
    },
    {
      "cell_type": "code",
      "source": [
        "# --- Controlled Circuit (Parameterized Quantum Circuit - PQC) ---\n",
        "# This is the circuit whose parameters the classical NN will learn to control.\n",
        "# We use sympy symbols as placeholders for the parameters.\n",
        "control_params_sym = sympy.symbols('theta_1 theta_2 theta_3')\n",
        "controlled_circuit = cirq.Circuit(\n",
        "    cirq.rz(control_params_sym[0])(qubit),\n",
        "    cirq.ry(control_params_sym[1])(qubit),\n",
        "    cirq.rx(control_params_sym[2])(qubit)\n",
        ")\n",
        "print(\"\\nControlled PQC (Parameters to be learned by NN):\")\n",
        "print(controlled_circuit)"
      ],
      "metadata": {
        "colab": {
          "base_uri": "https://localhost:8080/"
        },
        "id": "Y5mAcJDQV46I",
        "outputId": "b8fc03f3-33c0-4402-8f26-51646eb54487"
      },
      "execution_count": null,
      "outputs": [
        {
          "output_type": "stream",
          "name": "stdout",
          "text": [
            "\n",
            "Controlled PQC (Parameters to be learned by NN):\n",
            "(0, 0): ───Rz(theta_1)───Ry(theta_2)───Rx(theta_3)───\n"
          ]
        }
      ]
    },
    {
      "cell_type": "code",
      "source": [
        "# --- Readout Observable ---\n",
        "# We want to steer the qubit towards |0⟩ or |1⟩, which are eigenstates of Z.\n",
        "# So, we measure the expectation value of the Z operator.\n",
        "readout_op = cirq.Z(qubit)\n",
        "print(f\"\\nReadout Observable: {readout_op}\")"
      ],
      "metadata": {
        "colab": {
          "base_uri": "https://localhost:8080/"
        },
        "id": "Kb-cLSSnV7Mu",
        "outputId": "a2eb1482-9d35-4538-b7e0-f83de1bc44cf"
      },
      "execution_count": null,
      "outputs": [
        {
          "output_type": "stream",
          "name": "stdout",
          "text": [
            "\n",
            "Readout Observable: Z(q(0, 0))\n"
          ]
        }
      ]
    },
    {
      "cell_type": "code",
      "source": [
        "# --- Define Classical Controller ---(Neural Network)\n",
        "\n",
        "# --- Controller Model (Keras Sequential) ---\n",
        "# This simple NN takes a classical command (0 or 1) and outputs the 3\n",
        "# parameters (theta_1, theta_2, theta_3) for the controlled PQC.\n",
        "# Input: Shape (1,) representing the command.\n",
        "# Output: Shape (3,) representing the gate parameters.\n",
        "controller_nn = tf.keras.Sequential([\n",
        "    tf.keras.layers.Input(shape=(1,), dtype=tf.float32),\n",
        "    tf.keras.layers.Dense(10, activation='elu'), # Hidden layer\n",
        "    tf.keras.layers.Dense(3) # Output layer for 3 parameters\n",
        "])"
      ],
      "metadata": {
        "id": "a-7aRAG9V9Pk"
      },
      "execution_count": null,
      "outputs": []
    },
    {
      "cell_type": "code",
      "source": [
        "print(\"\\nClassical Controller NN Summary:\")\n",
        "controller_nn.summary()"
      ],
      "metadata": {
        "colab": {
          "base_uri": "https://localhost:8080/"
        },
        "id": "q2aj7f8BWICs",
        "outputId": "1509a6aa-5419-485f-dbb8-6ee1c64c7eb2"
      },
      "execution_count": null,
      "outputs": [
        {
          "output_type": "stream",
          "name": "stdout",
          "text": [
            "\n",
            "Classical Controller NN Summary:\n",
            "Model: \"sequential\"\n",
            "_________________________________________________________________\n",
            " Layer (type)                Output Shape              Param #   \n",
            "=================================================================\n",
            " dense (Dense)               (None, 10)                20        \n",
            "                                                                 \n",
            " dense_1 (Dense)             (None, 3)                 33        \n",
            "                                                                 \n",
            "=================================================================\n",
            "Total params: 53 (212.00 Byte)\n",
            "Trainable params: 53 (212.00 Byte)\n",
            "Non-trainable params: 0 (0.00 Byte)\n",
            "_________________________________________________________________\n"
          ]
        }
      ]
    },
    {
      "cell_type": "code",
      "source": [
        "# 3. Build the Hybrid Quantum-Classical Model (TFQ/Keras)\n",
        "\n",
        "# --- Define Keras Inputs ---\n",
        "# Input for the base quantum circuits (containing the miscalibration).\n",
        "# It takes serialized Cirq circuits as strings.\n",
        "base_circuits_input = tf.keras.Input(shape=(), dtype=tf.string, name='base_circuits')\n",
        "\n",
        "# Input for the classical commands (0 or 1).\n",
        "commands_input = tf.keras.Input(shape=(1,), dtype=tf.float32, name='commands')\n",
        "\n",
        "# --- Connect Controller to Commands ---\n",
        "# The classical NN processes the command input to generate gate parameters.\n",
        "controller_output = controller_nn(commands_input)"
      ],
      "metadata": {
        "id": "IwTYbBX2WKfH"
      },
      "execution_count": null,
      "outputs": []
    },
    {
      "cell_type": "code",
      "source": [
        "# --- Define the TFQ Layer (ControlledPQC) ---\n",
        "# This layer connects the classical controller to the quantum circuit.\n",
        "# It takes:\n",
        "#   1. The parameterized quantum circuit (controlled_circuit).\n",
        "#   2. The measurement operators (readout_op).\n",
        "# It expects inputs:\n",
        "#   [base_circuits, parameters_for_controlled_circuit]\n",
        "# In this baseline, we use the default 'noiseless' analytical backend.\n",
        "expectation_layer = tfq.layers.ControlledPQC(\n",
        "    controlled_circuit,\n",
        "    operators=readout_op,\n",
        "    name='controlled_pqc'\n",
        "    # backend='noiseless' is the default\n",
        ")\n",
        "\n",
        "# --- Link Inputs and Layers ---\n",
        "# The ControlledPQC layer takes the base circuits and the parameters from the NN.\n",
        "expectation_output = expectation_layer([base_circuits_input, controller_output])"
      ],
      "metadata": {
        "id": "Wh9rcdReWOsP"
      },
      "execution_count": null,
      "outputs": []
    },
    {
      "cell_type": "code",
      "source": [
        "# --- Build the Full Keras Model ---\n",
        "# Define the inputs and output of the complete hybrid model.\n",
        "hybrid_model = tf.keras.Model(\n",
        "    inputs=[base_circuits_input, commands_input],\n",
        "    outputs=expectation_output,\n",
        "    name='hybrid_quantum_control_model'\n",
        ")"
      ],
      "metadata": {
        "id": "YJQD8IaCWSrT"
      },
      "execution_count": null,
      "outputs": []
    },
    {
      "cell_type": "code",
      "source": [
        "print(\"\\nFull Hybrid Model Architecture:\")\n",
        "hybrid_model.summary()\n",
        "tf.keras.utils.plot_model(hybrid_model, show_shapes=True, dpi=70)"
      ],
      "metadata": {
        "colab": {
          "base_uri": "https://localhost:8080/",
          "height": 579
        },
        "id": "31LozW_cWVT0",
        "outputId": "13a41b56-ed81-4ec2-d2fb-d7ff60f8d393"
      },
      "execution_count": null,
      "outputs": [
        {
          "output_type": "stream",
          "name": "stdout",
          "text": [
            "\n",
            "Full Hybrid Model Architecture:\n",
            "Model: \"hybrid_quantum_control_model\"\n",
            "__________________________________________________________________________________________________\n",
            " Layer (type)                Output Shape                 Param #   Connected to                  \n",
            "==================================================================================================\n",
            " commands (InputLayer)       [(None, 1)]                  0         []                            \n",
            "                                                                                                  \n",
            " base_circuits (InputLayer)  [(None,)]                    0         []                            \n",
            "                                                                                                  \n",
            " sequential (Sequential)     (None, 3)                    53        ['commands[0][0]']            \n",
            "                                                                                                  \n",
            " controlled_pqc (Controlled  (None, 1)                    0         ['base_circuits[0][0]',       \n",
            " PQC)                                                                'sequential[0][0]']          \n",
            "                                                                                                  \n",
            "==================================================================================================\n",
            "Total params: 53 (212.00 Byte)\n",
            "Trainable params: 53 (212.00 Byte)\n",
            "Non-trainable params: 0 (0.00 Byte)\n",
            "__________________________________________________________________________________________________\n"
          ]
        },
        {
          "output_type": "execute_result",
          "data": {
            "image/png": "[encoded data removed]",
            "text/plain": [
              "<IPython.core.display.Image object>"
            ]
          },
          "metadata": {},
          "execution_count": 12
        }
      ]
    },
    {
      "cell_type": "code",
      "source": [
        "# %% 4. Prepare Dataset for Training\n",
        "\n",
        "# --- Classical Commands ---\n",
        "# Command 0 aims for |0⟩ state (Z expectation +1)\n",
        "# Command 1 aims for |1⟩ state (Z expectation -1)\n",
        "commands_data = np.array([[0.], [1.]], dtype=np.float32)\n",
        "print(f\"\\nClassical Commands:\\n{commands_data}\")"
      ],
      "metadata": {
        "colab": {
          "base_uri": "https://localhost:8080/"
        },
        "id": "0gOakuU9WXkJ",
        "outputId": "7164e580-6f09-44c9-91ac-57f92d104d83"
      },
      "execution_count": null,
      "outputs": [
        {
          "output_type": "stream",
          "name": "stdout",
          "text": [
            "\n",
            "Classical Commands:\n",
            "[[0.]\n",
            " [1.]]\n"
          ]
        }
      ]
    },
    {
      "cell_type": "code",
      "source": [
        "# --- Target Quantum States (Expectation Values) ---\n",
        "expected_outputs_data = np.array([[1.], [-1.]], dtype=np.float32)\n",
        "print(f\"\\nTarget Expectation Values:\\n{expected_outputs_data}\")"
      ],
      "metadata": {
        "colab": {
          "base_uri": "https://localhost:8080/"
        },
        "id": "VUWzbyn9WdWO",
        "outputId": "eb4b3cb5-5554-4f11-be7e-95a578e0244d"
      },
      "execution_count": null,
      "outputs": [
        {
          "output_type": "stream",
          "name": "stdout",
          "text": [
            "\n",
            "Target Expectation Values:\n",
            "[[ 1.]\n",
            " [-1.]]\n"
          ]
        }
      ]
    },
    {
      "cell_type": "code",
      "source": [
        "# --- Base Quantum Circuits (Miscalibration) ---\n",
        "# We need two copies of the *same* miscalibration circuit, one for each command.\n",
        "# The ControlledPQC layer will append the parameterized controlled_circuit\n",
        "# with parameters determined by the controller_nn based on the command.\n",
        "base_circuits_tensor = tfq.convert_to_tensor([miscalibration_circuit] * 2)# We need two because we have two different control commands (0 and 1) we want to apply\n",
        "print(f\"\\nBase Circuits Tensor Shape: {base_circuits_tensor.shape}\")\n",
        "# You can optionally print the content if needed, but it's a serialized string.\n",
        "# print(base_circuits_tensor.numpy())"
      ],
      "metadata": {
        "colab": {
          "base_uri": "https://localhost:8080/"
        },
        "id": "br3crpgHWfnN",
        "outputId": "ca5495e2-30a4-48a3-c70c-ccdcf4b85b8d"
      },
      "execution_count": null,
      "outputs": [
        {
          "output_type": "stream",
          "name": "stdout",
          "text": [
            "\n",
            "Base Circuits Tensor Shape: (2,)\n"
          ]
        }
      ]
    },
    {
      "cell_type": "code",
      "source": [
        "# --- Combine into TensorFlow Dataset (Optional) ---\n",
        "# For this simple 2-point dataset, direct feeding is okay, but a tf.data.Dataset\n",
        "# is more standard for larger datasets.\n",
        "# train_dataset = tf.data.Dataset.from_tensor_slices(\n",
        "#     ((base_circuits_tensor, commands_data), expected_outputs_data)\n",
        "# )\n",
        "# train_dataset = train_dataset.batch(2) # Process both points at once"
      ],
      "metadata": {
        "id": "Vke9OWgjWri1"
      },
      "execution_count": null,
      "outputs": []
    },
    {
      "cell_type": "code",
      "source": [
        "# 5. Compile and Train the Model (Noiseless Baseline)\n",
        "\n",
        "# --- Compile ---\n",
        "# We use Mean Squared Error because we are trying to match the target\n",
        "# expectation values (+1 or -1).\n",
        "optimizer = tf.keras.optimizers.Adam(learning_rate=0.05)\n",
        "loss_fn = tf.keras.losses.MeanSquaredError()\n",
        "hybrid_model.compile(optimizer=optimizer, loss=loss_fn)\n",
        "print(\"\\nModel Compiled Successfully!\")"
      ],
      "metadata": {
        "colab": {
          "base_uri": "https://localhost:8080/"
        },
        "id": "ouLV1-qlWtJv",
        "outputId": "e9f5fbec-9657-46d5-82ce-1ee715c891ad"
      },
      "execution_count": null,
      "outputs": [
        {
          "output_type": "stream",
          "name": "stdout",
          "text": [
            "\n",
            "Model Compiled Successfully!\n"
          ]
        }
      ]
    },
    {
      "cell_type": "code",
      "source": [
        "# --- Train ---\n",
        "# Train the model. The controller_nn's weights will be updated to minimize\n",
        "# the difference between the quantum circuit's output expectation and the target.\n",
        "EPOCHS = 100\n",
        "Train = hybrid_model.fit(\n",
        "    x=[base_circuits_tensor, commands_data], # Input circuits and commands\n",
        "    y=expected_outputs_data,                # Target expectation values\n",
        "    epochs=EPOCHS,\n",
        "    verbose=0 # Set to 1 to see epoch details\n",
        ")\n",
        "\n",
        "print(f\"\\nTraining Complete after {EPOCHS} epochs.\")"
      ],
      "metadata": {
        "colab": {
          "base_uri": "https://localhost:8080/"
        },
        "id": "hDCJz_shWyXt",
        "outputId": "4dae4945-c322-42e9-e853-0f0c04ec104e"
      },
      "execution_count": null,
      "outputs": [
        {
          "output_type": "stream",
          "name": "stdout",
          "text": [
            "\n",
            "Training Complete after 100 epochs.\n"
          ]
        }
      ]
    },
    {
      "cell_type": "code",
      "source": [
        "# 6. Evaluate the Baseline Model\n",
        "\n",
        "# --- Plot Loss ---\n",
        "plt.figure(figsize=(8, 5))\n",
        "plt.plot(Train.history['loss'])\n",
        "plt.title(\"Noiseless Model Training Loss\")\n",
        "plt.xlabel(\"Epoch\")\n",
        "plt.ylabel(\"Mean Squared Error Loss\")\n",
        "plt.grid(True)\n",
        "plt.show()"
      ],
      "metadata": {
        "colab": {
          "base_uri": "https://localhost:8080/",
          "height": 487
        },
        "id": "XYkYKc5YW0ir",
        "outputId": "4e5f328f-10a0-46fe-e230-f82ffc0c5f9a"
      },
      "execution_count": null,
      "outputs": [
        {
          "output_type": "display_data",
          "data": {
            "text/plain": [
              "<Figure size 800x500 with 1 Axes>"
            ],
            "image/png": "[encoded data removed]"
          },
          "metadata": {}
        }
      ]
    },
    {
      "cell_type": "code",
      "source": [
        "# --- Check Final Performance ---\n",
        "# Use the trained model to predict the expectation values for the commands.\n",
        "final_expectations = hybrid_model.predict([base_circuits_tensor, commands_data])\n",
        "print(\"\\n--- Baseline Model Evaluation ---\")\n",
        "print(f\"Target output for command 0 (|0⟩ state): {expected_outputs_data[0,0]:.4f}\")\n",
        "print(f\"Achieved output for command 0: {final_expectations[0,0]:.4f}\")\n",
        "print(f\"Target output for command 1 (|1⟩ state): {expected_outputs_data[1,0]:.4f}\")\n",
        "print(f\"Achieved output for command 1: {final_expectations[1,0]:.4f}\")"
      ],
      "metadata": {
        "colab": {
          "base_uri": "https://localhost:8080/"
        },
        "id": "cscU-TPhW3bN",
        "outputId": "6077b40d-04a3-4f03-c2de-b4679356eddd"
      },
      "execution_count": null,
      "outputs": [
        {
          "output_type": "stream",
          "name": "stdout",
          "text": [
            "1/1 [==============================] - 0s 144ms/step\n",
            "\n",
            "--- Baseline Model Evaluation ---\n",
            "Target output for command 0 (|0⟩ state): 1.0000\n",
            "Achieved output for command 0: 0.9956\n",
            "Target output for command 1 (|1⟩ state): -1.0000\n",
            "Achieved output for command 1: -0.9960\n"
          ]
        }
      ]
    },
    {
      "cell_type": "code",
      "source": [
        "final_loss = history.history['loss'][-1]\n",
        "print(f\"\\nFinal Training Loss: {final_loss:.6f}\")\n",
        "if final_loss < 1e-3:\n",
        "    print(\"\\nThe model successfully learned to correct the miscalibration in the noiseless case!\")\n",
        "else:\n",
        "    print(\"\\nThe model did not fully converge. Consider increasing epochs or adjusting learning rate.\")"
      ],
      "metadata": {
        "colab": {
          "base_uri": "https://localhost:8080/"
        },
        "id": "3QWGbiscW5On",
        "outputId": "a9a81347-47d7-4bd4-8fc9-bcef721cdd8c"
      },
      "execution_count": null,
      "outputs": [
        {
          "output_type": "stream",
          "name": "stdout",
          "text": [
            "\n",
            "Final Training Loss: 0.000019\n",
            "\n",
            "The model successfully learned to correct the miscalibration in the noiseless case!\n"
          ]
        }
      ]
    },
    {
      "cell_type": "code",
      "source": [
        "# --- (Optional) Verification with Cirq Simulator ---\n",
        "# Get the learned parameters from the controller\n",
        "learned_params_batch = controller_nn(commands_data).numpy()\n",
        "\n",
        "# Simulate using Cirq to double-check\n",
        "cirq_simulator = cirq.Simulator()\n",
        "print(\"\\n--- Verification with Cirq ---\")\n",
        "for i, command in enumerate(commands_data):\n",
        "    params_for_command = learned_params_batch[i]\n",
        "    resolver = cirq.ParamResolver({\n",
        "        symbol: val for symbol, val in zip(control_params_sym, params_for_command)\n",
        "    })\n",
        "    # Create the full circuit for this command's parameters\n",
        "    full_resolved_circuit = miscalibration_circuit + cirq.resolve_parameters(controlled_circuit, resolver)\n",
        "    # Simulate\n",
        "    final_state_vector = cirq_simulator.simulate(full_resolved_circuit).final_state_vector\n",
        "    # Calculate expectation\n",
        "    cirq_expectation = readout_op.expectation_from_state_vector(final_state_vector, {qubit: 0}).real\n",
        "\n",
        "    print(f\"Command {int(command[0])}: Target={expected_outputs_data[i,0]:.4f}, TFQ Model Output={final_expectations[i,0]:.4f}, Cirq Sim Output={cirq_expectation:.4f}\")"
      ],
      "metadata": {
        "colab": {
          "base_uri": "https://localhost:8080/"
        },
        "id": "Pda9KIlIW-Ni",
        "outputId": "8e0adbb8-474c-4320-c75a-79aa5b80de6e"
      },
      "execution_count": null,
      "outputs": [
        {
          "output_type": "stream",
          "name": "stdout",
          "text": [
            "\n",
            "--- Verification with Cirq ---\n",
            "Command 0: Target=1.0000, TFQ Model Output=0.9956, Cirq Sim Output=0.9956\n",
            "Command 1: Target=-1.0000, TFQ Model Output=-0.9960, Cirq Sim Output=-0.9960\n"
          ]
        }
      ]
    }
  ]
}